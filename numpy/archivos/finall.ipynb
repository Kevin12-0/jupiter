{
 "cells": [
  {
   "cell_type": "markdown",
   "metadata": {},
   "source": [
    "Importar libreriras"
   ]
  },
  {
   "cell_type": "code",
   "execution_count": 1,
   "metadata": {},
   "outputs": [],
   "source": [
    "import csv\n",
    "import numpy as np"
   ]
  },
  {
   "cell_type": "code",
   "execution_count": 2,
   "metadata": {},
   "outputs": [
    {
     "data": {
      "text/plain": [
       "'1.23.3'"
      ]
     },
     "execution_count": 2,
     "metadata": {},
     "output_type": "execute_result"
    }
   ],
   "source": [
    "np.__version__"
   ]
  },
  {
   "cell_type": "markdown",
   "metadata": {},
   "source": [
    "Abrir el archivo csv        "
   ]
  },
  {
   "cell_type": "code",
   "execution_count": 3,
   "metadata": {},
   "outputs": [],
   "source": [
    "with open('calificaciones_v1.csv','r') as file:\n",
    "    data = list(csv.reader(file,delimiter = ','))"
   ]
  },
  {
   "cell_type": "code",
   "execution_count": 4,
   "metadata": {},
   "outputs": [
    {
     "data": {
      "text/plain": [
       "list"
      ]
     },
     "execution_count": 4,
     "metadata": {},
     "output_type": "execute_result"
    }
   ],
   "source": [
    "type(data)"
   ]
  },
  {
   "cell_type": "markdown",
   "metadata": {},
   "source": [
    "Convertir a ndarray"
   ]
  },
  {
   "cell_type": "code",
   "execution_count": 5,
   "metadata": {},
   "outputs": [],
   "source": [
    "data = np.array(data)"
   ]
  },
  {
   "cell_type": "code",
   "execution_count": 6,
   "metadata": {},
   "outputs": [
    {
     "data": {
      "text/plain": [
       "numpy.ndarray"
      ]
     },
     "execution_count": 6,
     "metadata": {},
     "output_type": "execute_result"
    }
   ],
   "source": [
    "type(data)"
   ]
  },
  {
   "cell_type": "code",
   "execution_count": 7,
   "metadata": {},
   "outputs": [
    {
     "data": {
      "text/plain": [
       "array([['matricula', '11111111'],\n",
       "       ['nombre', 'Alumno 1'],\n",
       "       ['grupo', 'TI11'],\n",
       "       ['Materia 1', '1'],\n",
       "       ['Materia 2', '8'],\n",
       "       ['Materia 3', '1'],\n",
       "       ['Materia 4', '7'],\n",
       "       ['Materia 5', '2'],\n",
       "       ['estado', 'regular'],\n",
       "       ['matricula', '11111112']], dtype='<U9')"
      ]
     },
     "execution_count": 7,
     "metadata": {},
     "output_type": "execute_result"
    }
   ],
   "source": [
    "data[:10,:]"
   ]
  },
  {
   "cell_type": "markdown",
   "metadata": {},
   "source": [
    "## Obtener la califiaciones (primer columna del array)"
   ]
  },
  {
   "cell_type": "code",
   "execution_count": 8,
   "metadata": {},
   "outputs": [],
   "source": [
    "cabeceras = data.T[0] #transpone la columna 0 a una fila"
   ]
  },
  {
   "cell_type": "code",
   "execution_count": 9,
   "metadata": {},
   "outputs": [
    {
     "data": {
      "text/plain": [
       "array(['matricula', 'nombre', 'grupo', 'Materia 1', 'Materia 2',\n",
       "       'Materia 3', 'Materia 4', 'Materia 5', 'estado', 'matricula',\n",
       "       'nombre', 'grupo', 'Materia 1', 'Materia 2', 'Materia 3'],\n",
       "      dtype='<U9')"
      ]
     },
     "execution_count": 9,
     "metadata": {},
     "output_type": "execute_result"
    }
   ],
   "source": [
    "cabeceras[:15]"
   ]
  },
  {
   "cell_type": "markdown",
   "metadata": {},
   "source": [
    "## Contar las cabeceras"
   ]
  },
  {
   "cell_type": "code",
   "execution_count": 10,
   "metadata": {},
   "outputs": [
    {
     "data": {
      "text/plain": [
       "396"
      ]
     },
     "execution_count": 10,
     "metadata": {},
     "output_type": "execute_result"
    }
   ],
   "source": [
    "cabeceras.size"
   ]
  },
  {
   "cell_type": "code",
   "execution_count": 11,
   "metadata": {},
   "outputs": [
    {
     "data": {
      "text/plain": [
       "array(['Materia 1', 'Materia 2', 'Materia 3', 'Materia 4', 'Materia 5',\n",
       "       'estado', 'grupo', 'matricula', 'nombre'], dtype='<U9')"
      ]
     },
     "execution_count": 11,
     "metadata": {},
     "output_type": "execute_result"
    }
   ],
   "source": [
    "np.unique(cabeceras) #saber los valores unicos"
   ]
  },
  {
   "cell_type": "code",
   "execution_count": 12,
   "metadata": {},
   "outputs": [
    {
     "data": {
      "text/plain": [
       "9"
      ]
     },
     "execution_count": 12,
     "metadata": {},
     "output_type": "execute_result"
    }
   ],
   "source": [
    "np.unique(cabeceras).size"
   ]
  },
  {
   "cell_type": "markdown",
   "metadata": {},
   "source": [
    "## pbtener las cabeceras"
   ]
  },
  {
   "cell_type": "code",
   "execution_count": 13,
   "metadata": {},
   "outputs": [
    {
     "data": {
      "text/plain": [
       "array(['matricula', 'nombre', 'grupo', 'Materia 1', 'Materia 2',\n",
       "       'Materia 3', 'Materia 4', 'Materia 5', 'estado'], dtype='<U9')"
      ]
     },
     "execution_count": 13,
     "metadata": {},
     "output_type": "execute_result"
    }
   ],
   "source": [
    "cabeceras = cabeceras[:9]\n",
    "cabeceras"
   ]
  },
  {
   "cell_type": "markdown",
   "metadata": {},
   "source": [
    "# Calcular el numero de registros"
   ]
  },
  {
   "cell_type": "code",
   "execution_count": 14,
   "metadata": {},
   "outputs": [
    {
     "data": {
      "text/plain": [
       "9"
      ]
     },
     "execution_count": 14,
     "metadata": {},
     "output_type": "execute_result"
    }
   ],
   "source": [
    "numero_cabecera = cabeceras.size\n",
    "numero_cabecera"
   ]
  },
  {
   "cell_type": "code",
   "execution_count": 15,
   "metadata": {},
   "outputs": [
    {
     "data": {
      "text/plain": [
       "396"
      ]
     },
     "execution_count": 15,
     "metadata": {},
     "output_type": "execute_result"
    }
   ],
   "source": [
    "no_registros = data.T[0].size\n",
    "no_registros"
   ]
  },
  {
   "cell_type": "code",
   "execution_count": 16,
   "metadata": {},
   "outputs": [
    {
     "data": {
      "text/plain": [
       "44.0"
      ]
     },
     "execution_count": 16,
     "metadata": {},
     "output_type": "execute_result"
    }
   ],
   "source": [
    "filas = no_registros/numero_cabecera\n",
    "filas"
   ]
  },
  {
   "cell_type": "markdown",
   "metadata": {},
   "source": [
    "# eliminar las cabeceras del array"
   ]
  },
  {
   "cell_type": "code",
   "execution_count": 17,
   "metadata": {},
   "outputs": [],
   "source": [
    "data_sin_cabeceras = np.delete(data, 0,1) #1=columns , 0=rows"
   ]
  },
  {
   "cell_type": "code",
   "execution_count": 18,
   "metadata": {},
   "outputs": [
    {
     "data": {
      "text/plain": [
       "array([['11111111'],\n",
       "       ['Alumno 1'],\n",
       "       ['TI11'],\n",
       "       ['1'],\n",
       "       ['8'],\n",
       "       ['1'],\n",
       "       ['7'],\n",
       "       ['2'],\n",
       "       ['regular'],\n",
       "       ['11111112']], dtype='<U9')"
      ]
     },
     "execution_count": 18,
     "metadata": {},
     "output_type": "execute_result"
    }
   ],
   "source": [
    "data_sin_cabeceras[:10]"
   ]
  },
  {
   "cell_type": "code",
   "execution_count": 19,
   "metadata": {},
   "outputs": [
    {
     "data": {
      "text/plain": [
       "(396, 1)"
      ]
     },
     "execution_count": 19,
     "metadata": {},
     "output_type": "execute_result"
    }
   ],
   "source": [
    "data_sin_cabeceras.shape"
   ]
  },
  {
   "cell_type": "markdown",
   "metadata": {},
   "source": [
    "# Cambiar la forma del array"
   ]
  },
  {
   "cell_type": "code",
   "execution_count": 20,
   "metadata": {},
   "outputs": [],
   "source": [
    "data_sin_cabeceras = data_sin_cabeceras.reshape(int(filas),int(numero_cabecera))"
   ]
  },
  {
   "cell_type": "code",
   "execution_count": 21,
   "metadata": {},
   "outputs": [
    {
     "data": {
      "text/plain": [
       "(44, 9)"
      ]
     },
     "execution_count": 21,
     "metadata": {},
     "output_type": "execute_result"
    }
   ],
   "source": [
    "data_sin_cabeceras.shape"
   ]
  },
  {
   "cell_type": "code",
   "execution_count": 22,
   "metadata": {},
   "outputs": [
    {
     "data": {
      "text/plain": [
       "array([['11111111', 'Alumno 1', 'TI11', '1', '8', '1', '7', '2',\n",
       "        'regular'],\n",
       "       ['11111112', 'Alumno 2', 'TI11', '10', '7', '1', '8', '5',\n",
       "        'regular'],\n",
       "       ['11111113', 'Alumno 3', 'TI11', '4', '1', '1', '3', '0',\n",
       "        'regular'],\n",
       "       ['11111114', 'Alumno 4', 'TI11', '5', '4', '3', '2', '7',\n",
       "        'regular'],\n",
       "       ['11111115', 'Alumno 5', 'TI11', '9', '10', '3', '9', '2',\n",
       "        'regular']], dtype='<U9')"
      ]
     },
     "execution_count": 22,
     "metadata": {},
     "output_type": "execute_result"
    }
   ],
   "source": [
    "data_sin_cabeceras[:5]"
   ]
  },
  {
   "cell_type": "markdown",
   "metadata": {},
   "source": [
    "# Separa datos de los alumnos"
   ]
  },
  {
   "cell_type": "code",
   "execution_count": 23,
   "metadata": {},
   "outputs": [],
   "source": [
    "# tomar toas las filas y solo las 3 primeras columnas\n",
    "datos_alumnos = np.array(data_sin_cabeceras[:,:3])"
   ]
  },
  {
   "cell_type": "code",
   "execution_count": 24,
   "metadata": {},
   "outputs": [
    {
     "data": {
      "text/plain": [
       "array([['11111111', 'Alumno 1', 'TI11'],\n",
       "       ['11111112', 'Alumno 2', 'TI11'],\n",
       "       ['11111113', 'Alumno 3', 'TI11'],\n",
       "       ['11111114', 'Alumno 4', 'TI11'],\n",
       "       ['11111115', 'Alumno 5', 'TI11'],\n",
       "       ['11111116', 'Alumno 6', 'TI11'],\n",
       "       ['11111117', 'Alumno 7', 'TI11'],\n",
       "       ['11111118', 'Alumno 8', 'TI11'],\n",
       "       ['11111119', 'Alumno 9', 'TI11'],\n",
       "       ['11111120', 'Alumno 10', 'TI11']], dtype='<U9')"
      ]
     },
     "execution_count": 24,
     "metadata": {},
     "output_type": "execute_result"
    }
   ],
   "source": [
    "datos_alumnos[:10]"
   ]
  },
  {
   "cell_type": "markdown",
   "metadata": {},
   "source": [
    "# seoarar calificaciones de los alumnos"
   ]
  },
  {
   "cell_type": "code",
   "execution_count": 25,
   "metadata": {},
   "outputs": [],
   "source": [
    "calificacoines_alumnos = np.array(data_sin_cabeceras[:,3:8], dtype = float)"
   ]
  },
  {
   "cell_type": "code",
   "execution_count": 26,
   "metadata": {},
   "outputs": [
    {
     "data": {
      "text/plain": [
       "array([[ 1.,  8.,  1.,  7.,  2.],\n",
       "       [10.,  7.,  1.,  8.,  5.],\n",
       "       [ 4.,  1.,  1.,  3.,  0.],\n",
       "       [ 5.,  4.,  3.,  2.,  7.],\n",
       "       [ 9., 10.,  3.,  9.,  2.]])"
      ]
     },
     "execution_count": 26,
     "metadata": {},
     "output_type": "execute_result"
    }
   ],
   "source": [
    "calificacoines_alumnos[:5] #ver las primeras 5 calificcaciones de las primeras 5 filas"
   ]
  },
  {
   "cell_type": "code",
   "execution_count": 27,
   "metadata": {},
   "outputs": [
    {
     "data": {
      "text/plain": [
       "(44, 5)"
      ]
     },
     "execution_count": 27,
     "metadata": {},
     "output_type": "execute_result"
    }
   ],
   "source": [
    "calificacoines_alumnos.shape #ver la forma del array"
   ]
  },
  {
   "cell_type": "markdown",
   "metadata": {},
   "source": [
    "# calcular el promedio "
   ]
  },
  {
   "cell_type": "code",
   "execution_count": 28,
   "metadata": {},
   "outputs": [],
   "source": [
    "promedio = []\n",
    "for index in range(int(filas)):\n",
    "    promedio.append([\"regular\",calificacoines_alumnos[index].min()])\n",
    "\n",
    "promedio = np.array(promedio)"
   ]
  },
  {
   "cell_type": "code",
   "execution_count": 29,
   "metadata": {},
   "outputs": [
    {
     "data": {
      "text/plain": [
       "array([['regular', '1.0'],\n",
       "       ['regular', '1.0'],\n",
       "       ['regular', '0.0'],\n",
       "       ['regular', '2.0'],\n",
       "       ['regular', '2.0']], dtype='<U32')"
      ]
     },
     "execution_count": 29,
     "metadata": {},
     "output_type": "execute_result"
    }
   ],
   "source": [
    "promedio[:5]"
   ]
  },
  {
   "cell_type": "code",
   "execution_count": 30,
   "metadata": {},
   "outputs": [
    {
     "data": {
      "text/plain": [
       "(44, 2)"
      ]
     },
     "execution_count": 30,
     "metadata": {},
     "output_type": "execute_result"
    }
   ],
   "source": [
    "promedio.shape"
   ]
  },
  {
   "cell_type": "markdown",
   "metadata": {},
   "source": [
    "# unir los  arreglos"
   ]
  },
  {
   "cell_type": "code",
   "execution_count": 31,
   "metadata": {},
   "outputs": [],
   "source": [
    "todos = np.concatenate((datos_alumnos,calificacoines_alumnos,promedio),axis=1,dtype=str)"
   ]
  },
  {
   "cell_type": "code",
   "execution_count": 32,
   "metadata": {},
   "outputs": [
    {
     "data": {
      "text/plain": [
       "array([['11111111', 'Alumno 1', 'TI11', '1.0', '8.0', '1.0', '7.0',\n",
       "        '2.0', 'regular', '1.0'],\n",
       "       ['11111112', 'Alumno 2', 'TI11', '10.0', '7.0', '1.0', '8.0',\n",
       "        '5.0', 'regular', '1.0'],\n",
       "       ['11111113', 'Alumno 3', 'TI11', '4.0', '1.0', '1.0', '3.0',\n",
       "        '0.0', 'regular', '0.0'],\n",
       "       ['11111114', 'Alumno 4', 'TI11', '5.0', '4.0', '3.0', '2.0',\n",
       "        '7.0', 'regular', '2.0'],\n",
       "       ['11111115', 'Alumno 5', 'TI11', '9.0', '10.0', '3.0', '9.0',\n",
       "        '2.0', 'regular', '2.0']], dtype='<U32')"
      ]
     },
     "execution_count": 32,
     "metadata": {},
     "output_type": "execute_result"
    }
   ],
   "source": [
    "todos[:5]"
   ]
  },
  {
   "cell_type": "markdown",
   "metadata": {},
   "source": [
    "# Unir cabeceras"
   ]
  },
  {
   "cell_type": "code",
   "execution_count": 33,
   "metadata": {},
   "outputs": [
    {
     "data": {
      "text/plain": [
       "array(['matricula', 'nombre', 'grupo', 'Materia 1', 'Materia 2',\n",
       "       'Materia 3', 'Materia 4', 'Materia 5', 'estado'], dtype='<U9')"
      ]
     },
     "execution_count": 33,
     "metadata": {},
     "output_type": "execute_result"
    }
   ],
   "source": [
    "cabeceras"
   ]
  },
  {
   "cell_type": "code",
   "execution_count": 34,
   "metadata": {},
   "outputs": [],
   "source": [
    "cabeceras = np.concatenate((cabeceras,['promedio']),axis=0,dtype=str)"
   ]
  },
  {
   "cell_type": "code",
   "execution_count": 35,
   "metadata": {},
   "outputs": [
    {
     "data": {
      "text/plain": [
       "array(['matricula', 'nombre', 'grupo', 'Materia 1', 'Materia 2',\n",
       "       'Materia 3', 'Materia 4', 'Materia 5', 'estado', 'promedio'],\n",
       "      dtype='<U9')"
      ]
     },
     "execution_count": 35,
     "metadata": {},
     "output_type": "execute_result"
    }
   ],
   "source": [
    "cabeceras"
   ]
  },
  {
   "cell_type": "code",
   "execution_count": 36,
   "metadata": {},
   "outputs": [
    {
     "data": {
      "text/plain": [
       "(10,)"
      ]
     },
     "execution_count": 36,
     "metadata": {},
     "output_type": "execute_result"
    }
   ],
   "source": [
    "cabeceras.shape"
   ]
  },
  {
   "cell_type": "code",
   "execution_count": 37,
   "metadata": {},
   "outputs": [],
   "source": [
    "todos = np.concatenate(([cabeceras],todos),axis=0,dtype=str)"
   ]
  },
  {
   "cell_type": "code",
   "execution_count": 38,
   "metadata": {},
   "outputs": [
    {
     "data": {
      "text/plain": [
       "array([['matricula', 'nombre', 'grupo', 'Materia 1', 'Materia 2',\n",
       "        'Materia 3', 'Materia 4', 'Materia 5', 'estado', 'promedio'],\n",
       "       ['11111111', 'Alumno 1', 'TI11', '1.0', '8.0', '1.0', '7.0',\n",
       "        '2.0', 'regular', '1.0'],\n",
       "       ['11111112', 'Alumno 2', 'TI11', '10.0', '7.0', '1.0', '8.0',\n",
       "        '5.0', 'regular', '1.0'],\n",
       "       ['11111113', 'Alumno 3', 'TI11', '4.0', '1.0', '1.0', '3.0',\n",
       "        '0.0', 'regular', '0.0'],\n",
       "       ['11111114', 'Alumno 4', 'TI11', '5.0', '4.0', '3.0', '2.0',\n",
       "        '7.0', 'regular', '2.0'],\n",
       "       ['11111115', 'Alumno 5', 'TI11', '9.0', '10.0', '3.0', '9.0',\n",
       "        '2.0', 'regular', '2.0'],\n",
       "       ['11111116', 'Alumno 6', 'TI11', '1.0', '3.0', '8.0', '1.0',\n",
       "        '7.0', 'regular', '1.0'],\n",
       "       ['11111117', 'Alumno 7', 'TI11', '4.0', '7.0', '1.0', '6.0',\n",
       "        '5.0', 'regular', '1.0'],\n",
       "       ['11111118', 'Alumno 8', 'TI11', '10.0', '1.0', '7.0', '10.0',\n",
       "        '0.0', 'regular', '0.0'],\n",
       "       ['11111119', 'Alumno 9', 'TI11', '5.0', '5.0', '4.0', '0.0',\n",
       "        '3.0', 'regular', '0.0'],\n",
       "       ['11111120', 'Alumno 10', 'TI11', '5.0', '7.0', '3.0', '3.0',\n",
       "        '4.0', 'regular', '3.0'],\n",
       "       ['11111121', 'Alumno 11', 'TI11', '6.0', '1.0', '3.0', '7.0',\n",
       "        '0.0', 'regular', '0.0'],\n",
       "       ['11111122', 'Alumno 12', 'TI11', '7.0', '2.0', '5.0', '4.0',\n",
       "        '5.0', 'regular', '2.0'],\n",
       "       ['11111123', 'Alumno 13', 'TI12', '5.0', '2.0', '3.0', '0.0',\n",
       "        '1.0', 'regular', '0.0'],\n",
       "       ['11111124', 'Alumno 14', 'TI12', '5.0', '2.0', '10.0', '0.0',\n",
       "        '6.0', 'regular', '0.0'],\n",
       "       ['11111125', 'Alumno 15', 'TI12', '9.0', '9.0', '1.0', '3.0',\n",
       "        '1.0', 'regular', '1.0'],\n",
       "       ['11111126', 'Alumno 16', 'TI12', '1.0', '2.0', '1.0', '7.0',\n",
       "        '7.0', 'regular', '1.0'],\n",
       "       ['11111127', 'Alumno 17', 'TI12', '0.0', '2.0', '1.0', '0.0',\n",
       "        '2.0', 'regular', '0.0'],\n",
       "       ['11111128', 'Alumno 18', 'TI12', '0.0', '1.0', '4.0', '7.0',\n",
       "        '6.0', 'regular', '0.0'],\n",
       "       ['11111129', 'Alumno 19', 'TI12', '0.0', '8.0', '7.0', '8.0',\n",
       "        '2.0', 'regular', '0.0'],\n",
       "       ['11111130', 'Alumno 20', 'TI12', '4.0', '0.0', '5.0', '0.0',\n",
       "        '4.0', 'regular', '0.0'],\n",
       "       ['11111131', 'Alumno 21', 'TI12', '6.0', '4.0', '2.0', '10.0',\n",
       "        '10.0', 'regular', '2.0'],\n",
       "       ['11111132', 'Alumno 22', 'TI12', '5.0', '6.0', '9.0', '0.0',\n",
       "        '3.0', 'regular', '0.0'],\n",
       "       ['11111133', 'Alumno 23', 'TI12', '1.0', '9.0', '7.0', '7.0',\n",
       "        '6.0', 'regular', '1.0'],\n",
       "       ['11111134', 'Alumno 24', 'TI41', '4.0', '0.0', '10.0', '7.0',\n",
       "        '0.0', 'regular', '0.0'],\n",
       "       ['11111135', 'Alumno 25', 'TI41', '3.0', '3.0', '0.0', '8.0',\n",
       "        '5.0', 'regular', '0.0'],\n",
       "       ['11111136', 'Alumno 26', 'TI41', '0.0', '5.0', '7.0', '2.0',\n",
       "        '1.0', 'regular', '0.0'],\n",
       "       ['11111137', 'Alumno 27', 'TI41', '0.0', '0.0', '6.0', '0.0',\n",
       "        '5.0', 'regular', '0.0'],\n",
       "       ['11111138', 'Alumno 28', 'TI41', '9.0', '3.0', '10.0', '9.0',\n",
       "        '6.0', 'regular', '3.0'],\n",
       "       ['11111139', 'Alumno 29', 'TI41', '0.0', '5.0', '1.0', '10.0',\n",
       "        '1.0', 'regular', '0.0'],\n",
       "       ['11111140', 'Alumno 30', 'TI41', '3.0', '3.0', '5.0', '9.0',\n",
       "        '9.0', 'regular', '3.0'],\n",
       "       ['11111141', 'Alumno 31', 'TI41', '10.0', '10.0', '4.0', '1.0',\n",
       "        '4.0', 'regular', '1.0'],\n",
       "       ['11111142', 'Alumno 32', 'TI41', '6.0', '0.0', '5.0', '3.0',\n",
       "        '2.0', 'regular', '0.0'],\n",
       "       ['11111143', 'Alumno 33', 'IDGS91', '0.0', '4.0', '1.0', '7.0',\n",
       "        '9.0', 'regular', '0.0'],\n",
       "       ['11111144', 'Alumno 34', 'IDGS91', '1.0', '1.0', '2.0', '3.0',\n",
       "        '8.0', 'regular', '1.0'],\n",
       "       ['11111145', 'Alumno 35', 'IDGS91', '0.0', '7.0', '10.0', '7.0',\n",
       "        '7.0', 'regular', '0.0'],\n",
       "       ['11111146', 'Alumno 36', 'IDGS91', '7.0', '1.0', '4.0', '0.0',\n",
       "        '6.0', 'regular', '0.0'],\n",
       "       ['11111150', 'Alumno 40', 'IDGS91', '1.0', '0.0', '3.0', '4.0',\n",
       "        '10.0', 'regular', '0.0'],\n",
       "       ['11111151', 'Alumno 41', 'IDGS91', '6.0', '5.0', '1.0', '5.0',\n",
       "        '9.0', 'regular', '1.0'],\n",
       "       ['11111152', 'Alumno 42', 'IDGS91', '2.0', '0.0', '9.0', '9.0',\n",
       "        '5.0', 'regular', '0.0'],\n",
       "       ['11111153', 'Alumno 43', 'IDGS91', '3.0', '4.0', '0.0', '0.0',\n",
       "        '0.0', 'regular', '0.0'],\n",
       "       ['11111154', 'Alumno 44', 'IDGS91', '3.0', '1.0', '1.0', '7.0',\n",
       "        '10.0', 'regular', '1.0'],\n",
       "       ['11111155', 'Alumno 45', 'IDGS91', '4.0', '1.0', '2.0', '8.0',\n",
       "        '6.0', 'regular', '1.0'],\n",
       "       ['11111156', 'Alumno 46', 'IDGS71', '10.0', '1.0', '10.0', '0.0',\n",
       "        '7.0', 'regular', '0.0'],\n",
       "       ['11111157', 'Alumno 47', 'IDGS71', '9.0', '10.0', '1.0', '3.0',\n",
       "        '9.0', 'regular', '1.0']], dtype='<U32')"
      ]
     },
     "execution_count": 38,
     "metadata": {},
     "output_type": "execute_result"
    }
   ],
   "source": [
    "todos"
   ]
  },
  {
   "cell_type": "code",
   "execution_count": 39,
   "metadata": {},
   "outputs": [
    {
     "data": {
      "text/plain": [
       "(45, 10)"
      ]
     },
     "execution_count": 39,
     "metadata": {},
     "output_type": "execute_result"
    }
   ],
   "source": [
    "todos.shape"
   ]
  },
  {
   "cell_type": "markdown",
   "metadata": {},
   "source": [
    "# exportar a csv"
   ]
  },
  {
   "cell_type": "code",
   "execution_count": 40,
   "metadata": {},
   "outputs": [],
   "source": [
    "row = [f'{c0},{c1},{c2},{c3},{c4},{c5},{c6},{c7},{c8},{c9}' for c0, c1, c2, c3, c4, c5, c6, c7, c8, c9 in todos]\n",
    "text = '\\n'.join(row)\n",
    "with open(\"archivo2.csv\",\"w\") as file:\n",
    "    file.write(text)"
   ]
  },
  {
   "cell_type": "code",
   "execution_count": null,
   "metadata": {},
   "outputs": [],
   "source": []
  }
 ],
 "metadata": {
  "kernelspec": {
   "display_name": "Python 3.10.7 64-bit",
   "language": "python",
   "name": "python3"
  },
  "language_info": {
   "codemirror_mode": {
    "name": "ipython",
    "version": 3
   },
   "file_extension": ".py",
   "mimetype": "text/x-python",
   "name": "python",
   "nbconvert_exporter": "python",
   "pygments_lexer": "ipython3",
   "version": "3.10.7"
  },
  "orig_nbformat": 4,
  "vscode": {
   "interpreter": {
    "hash": "213524bb45a1aeaf737b1d8c77d7b8db5d425938d9dffc5f4bc6fe6dd3324700"
   }
  }
 },
 "nbformat": 4,
 "nbformat_minor": 2
}

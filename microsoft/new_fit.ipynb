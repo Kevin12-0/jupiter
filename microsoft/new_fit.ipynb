{
 "cells": [
  {
   "cell_type": "code",
   "execution_count": null,
   "metadata": {},
   "outputs": [],
   "source": [
    "import pandas as pd\n",
    "import numpy as np\n",
    "\n",
    "from sklearn.model_selection import train_test_split\n",
    "\n",
    "from sklearn.model_selection import Lasso\n",
    "from sklearn.model_selection import LogisticRegression\n",
    "\n",
    "from sklearn.metrics import mean_squared_error,r2_score\n",
    "\n",
    "import pickle\n",
    "\n",
    "bike_data = pd.read_csv(\"daily-bike-share.csv\")\n",
    "bike_data.head()\n",
    "\n",
    "x,y = bike_data"
   ]
  }
 ],
 "metadata": {
  "language_info": {
   "name": "python"
  },
  "orig_nbformat": 4
 },
 "nbformat": 4,
 "nbformat_minor": 2
}

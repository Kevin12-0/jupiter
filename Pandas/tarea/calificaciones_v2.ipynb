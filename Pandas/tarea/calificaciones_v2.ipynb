{
 "cells": [
  {
   "cell_type": "markdown",
   "metadata": {},
   "source": [
    "## Kevin Israel Lopez Mendoza    1719110155  25 de actubre del 2022"
   ]
  },
  {
   "cell_type": "markdown",
   "metadata": {},
   "source": []
  },
  {
   "cell_type": "markdown",
   "metadata": {},
   "source": [
    "#### En la universidad \"ACME\" se desea calcular el promedio de cada uno de los alumnos, y el área de control escolar genero el archivo calificaciones_v2.csv para calcular el promedio por alumno, y tener un archivo con formato similar al archivo calificaciones_promedio_v2.csv."
   ]
  },
  {
   "cell_type": "markdown",
   "metadata": {},
   "source": [
    "## Librerias"
   ]
  },
  {
   "cell_type": "code",
   "execution_count": 1,
   "metadata": {},
   "outputs": [],
   "source": [
    "import pandas as pd\n",
    "import numpy as np\n",
    "import csv"
   ]
  },
  {
   "cell_type": "code",
   "execution_count": 2,
   "metadata": {},
   "outputs": [
    {
     "data": {
      "text/plain": [
       "'1.5.0'"
      ]
     },
     "execution_count": 2,
     "metadata": {},
     "output_type": "execute_result"
    }
   ],
   "source": [
    "pd.__version__"
   ]
  },
  {
   "cell_type": "code",
   "execution_count": 3,
   "metadata": {},
   "outputs": [
    {
     "data": {
      "text/plain": [
       "'1.23.3'"
      ]
     },
     "execution_count": 3,
     "metadata": {},
     "output_type": "execute_result"
    }
   ],
   "source": [
    "np.__version__"
   ]
  },
  {
   "cell_type": "code",
   "execution_count": 4,
   "metadata": {},
   "outputs": [
    {
     "data": {
      "text/plain": [
       "'1.0'"
      ]
     },
     "execution_count": 4,
     "metadata": {},
     "output_type": "execute_result"
    }
   ],
   "source": [
    "csv.__version__"
   ]
  },
  {
   "cell_type": "markdown",
   "metadata": {},
   "source": [
    "# Abrir el archivo con Pandas"
   ]
  },
  {
   "cell_type": "code",
   "execution_count": 5,
   "metadata": {},
   "outputs": [
    {
     "data": {
      "text/html": [
       "<div>\n",
       "<style scoped>\n",
       "    .dataframe tbody tr th:only-of-type {\n",
       "        vertical-align: middle;\n",
       "    }\n",
       "\n",
       "    .dataframe tbody tr th {\n",
       "        vertical-align: top;\n",
       "    }\n",
       "\n",
       "    .dataframe thead th {\n",
       "        text-align: right;\n",
       "    }\n",
       "</style>\n",
       "<table border=\"1\" class=\"dataframe\">\n",
       "  <thead>\n",
       "    <tr style=\"text-align: right;\">\n",
       "      <th></th>\n",
       "      <th>matricula</th>\n",
       "      <th>11111111</th>\n",
       "    </tr>\n",
       "  </thead>\n",
       "  <tbody>\n",
       "    <tr>\n",
       "      <th>0</th>\n",
       "      <td>nombre</td>\n",
       "      <td>Alumno 1</td>\n",
       "    </tr>\n",
       "    <tr>\n",
       "      <th>1</th>\n",
       "      <td>grupo</td>\n",
       "      <td>TI11</td>\n",
       "    </tr>\n",
       "    <tr>\n",
       "      <th>2</th>\n",
       "      <td>Materia 1</td>\n",
       "      <td>1</td>\n",
       "    </tr>\n",
       "    <tr>\n",
       "      <th>3</th>\n",
       "      <td>Materia 2</td>\n",
       "      <td>8</td>\n",
       "    </tr>\n",
       "    <tr>\n",
       "      <th>4</th>\n",
       "      <td>Materia 3</td>\n",
       "      <td>1</td>\n",
       "    </tr>\n",
       "    <tr>\n",
       "      <th>...</th>\n",
       "      <td>...</td>\n",
       "      <td>...</td>\n",
       "    </tr>\n",
       "    <tr>\n",
       "      <th>428</th>\n",
       "      <td>Materia 3</td>\n",
       "      <td>10</td>\n",
       "    </tr>\n",
       "    <tr>\n",
       "      <th>429</th>\n",
       "      <td>Materia 4</td>\n",
       "      <td>6</td>\n",
       "    </tr>\n",
       "    <tr>\n",
       "      <th>430</th>\n",
       "      <td>Materia 5</td>\n",
       "      <td>8</td>\n",
       "    </tr>\n",
       "    <tr>\n",
       "      <th>431</th>\n",
       "      <td>Materia 6</td>\n",
       "      <td>10</td>\n",
       "    </tr>\n",
       "    <tr>\n",
       "      <th>432</th>\n",
       "      <td>estado</td>\n",
       "      <td>regular</td>\n",
       "    </tr>\n",
       "  </tbody>\n",
       "</table>\n",
       "<p>433 rows × 2 columns</p>\n",
       "</div>"
      ],
      "text/plain": [
       "     matricula  11111111\n",
       "0       nombre  Alumno 1\n",
       "1        grupo      TI11\n",
       "2    Materia 1         1\n",
       "3    Materia 2         8\n",
       "4    Materia 3         1\n",
       "..         ...       ...\n",
       "428  Materia 3        10\n",
       "429  Materia 4         6\n",
       "430  Materia 5         8\n",
       "431  Materia 6        10\n",
       "432     estado   regular\n",
       "\n",
       "[433 rows x 2 columns]"
      ]
     },
     "execution_count": 5,
     "metadata": {},
     "output_type": "execute_result"
    }
   ],
   "source": [
    "file = pd.read_csv(\"calificaciones_v2.csv\")\n",
    "file"
   ]
  },
  {
   "cell_type": "markdown",
   "metadata": {},
   "source": [
    "### Muestrar los primeros registros del datos frame"
   ]
  },
  {
   "cell_type": "code",
   "execution_count": 6,
   "metadata": {},
   "outputs": [
    {
     "data": {
      "text/html": [
       "<div>\n",
       "<style scoped>\n",
       "    .dataframe tbody tr th:only-of-type {\n",
       "        vertical-align: middle;\n",
       "    }\n",
       "\n",
       "    .dataframe tbody tr th {\n",
       "        vertical-align: top;\n",
       "    }\n",
       "\n",
       "    .dataframe thead th {\n",
       "        text-align: right;\n",
       "    }\n",
       "</style>\n",
       "<table border=\"1\" class=\"dataframe\">\n",
       "  <thead>\n",
       "    <tr style=\"text-align: right;\">\n",
       "      <th></th>\n",
       "      <th>matricula</th>\n",
       "      <th>11111111</th>\n",
       "    </tr>\n",
       "  </thead>\n",
       "  <tbody>\n",
       "    <tr>\n",
       "      <th>0</th>\n",
       "      <td>nombre</td>\n",
       "      <td>Alumno 1</td>\n",
       "    </tr>\n",
       "    <tr>\n",
       "      <th>1</th>\n",
       "      <td>grupo</td>\n",
       "      <td>TI11</td>\n",
       "    </tr>\n",
       "    <tr>\n",
       "      <th>2</th>\n",
       "      <td>Materia 1</td>\n",
       "      <td>1</td>\n",
       "    </tr>\n",
       "    <tr>\n",
       "      <th>3</th>\n",
       "      <td>Materia 2</td>\n",
       "      <td>8</td>\n",
       "    </tr>\n",
       "    <tr>\n",
       "      <th>4</th>\n",
       "      <td>Materia 3</td>\n",
       "      <td>1</td>\n",
       "    </tr>\n",
       "    <tr>\n",
       "      <th>5</th>\n",
       "      <td>Materia 4</td>\n",
       "      <td>7</td>\n",
       "    </tr>\n",
       "    <tr>\n",
       "      <th>6</th>\n",
       "      <td>Materia 5</td>\n",
       "      <td>2</td>\n",
       "    </tr>\n",
       "    <tr>\n",
       "      <th>7</th>\n",
       "      <td>Materia 5</td>\n",
       "      <td>2</td>\n",
       "    </tr>\n",
       "    <tr>\n",
       "      <th>8</th>\n",
       "      <td>estado</td>\n",
       "      <td>regular</td>\n",
       "    </tr>\n",
       "    <tr>\n",
       "      <th>9</th>\n",
       "      <td>matricula</td>\n",
       "      <td>11111112</td>\n",
       "    </tr>\n",
       "    <tr>\n",
       "      <th>10</th>\n",
       "      <td>nombre</td>\n",
       "      <td>Alumno 2</td>\n",
       "    </tr>\n",
       "    <tr>\n",
       "      <th>11</th>\n",
       "      <td>grupo</td>\n",
       "      <td>TI11</td>\n",
       "    </tr>\n",
       "  </tbody>\n",
       "</table>\n",
       "</div>"
      ],
      "text/plain": [
       "    matricula  11111111\n",
       "0      nombre  Alumno 1\n",
       "1       grupo      TI11\n",
       "2   Materia 1         1\n",
       "3   Materia 2         8\n",
       "4   Materia 3         1\n",
       "5   Materia 4         7\n",
       "6   Materia 5         2\n",
       "7   Materia 5         2\n",
       "8      estado   regular\n",
       "9   matricula  11111112\n",
       "10     nombre  Alumno 2\n",
       "11      grupo      TI11"
      ]
     },
     "execution_count": 6,
     "metadata": {},
     "output_type": "execute_result"
    }
   ],
   "source": [
    "file.head(12)"
   ]
  },
  {
   "cell_type": "markdown",
   "metadata": {},
   "source": [
    "## Mostrar los ultimos registros del datosframe"
   ]
  },
  {
   "cell_type": "code",
   "execution_count": 7,
   "metadata": {},
   "outputs": [
    {
     "data": {
      "text/html": [
       "<div>\n",
       "<style scoped>\n",
       "    .dataframe tbody tr th:only-of-type {\n",
       "        vertical-align: middle;\n",
       "    }\n",
       "\n",
       "    .dataframe tbody tr th {\n",
       "        vertical-align: top;\n",
       "    }\n",
       "\n",
       "    .dataframe thead th {\n",
       "        text-align: right;\n",
       "    }\n",
       "</style>\n",
       "<table border=\"1\" class=\"dataframe\">\n",
       "  <thead>\n",
       "    <tr style=\"text-align: right;\">\n",
       "      <th></th>\n",
       "      <th>matricula</th>\n",
       "      <th>11111111</th>\n",
       "    </tr>\n",
       "  </thead>\n",
       "  <tbody>\n",
       "    <tr>\n",
       "      <th>423</th>\n",
       "      <td>matricula</td>\n",
       "      <td>11111158</td>\n",
       "    </tr>\n",
       "    <tr>\n",
       "      <th>424</th>\n",
       "      <td>nombre</td>\n",
       "      <td>Alumno 48</td>\n",
       "    </tr>\n",
       "    <tr>\n",
       "      <th>425</th>\n",
       "      <td>grupo</td>\n",
       "      <td>IDGS71</td>\n",
       "    </tr>\n",
       "    <tr>\n",
       "      <th>426</th>\n",
       "      <td>Materia 1</td>\n",
       "      <td>4</td>\n",
       "    </tr>\n",
       "    <tr>\n",
       "      <th>427</th>\n",
       "      <td>Materia 2</td>\n",
       "      <td>4</td>\n",
       "    </tr>\n",
       "    <tr>\n",
       "      <th>428</th>\n",
       "      <td>Materia 3</td>\n",
       "      <td>10</td>\n",
       "    </tr>\n",
       "    <tr>\n",
       "      <th>429</th>\n",
       "      <td>Materia 4</td>\n",
       "      <td>6</td>\n",
       "    </tr>\n",
       "    <tr>\n",
       "      <th>430</th>\n",
       "      <td>Materia 5</td>\n",
       "      <td>8</td>\n",
       "    </tr>\n",
       "    <tr>\n",
       "      <th>431</th>\n",
       "      <td>Materia 6</td>\n",
       "      <td>10</td>\n",
       "    </tr>\n",
       "    <tr>\n",
       "      <th>432</th>\n",
       "      <td>estado</td>\n",
       "      <td>regular</td>\n",
       "    </tr>\n",
       "  </tbody>\n",
       "</table>\n",
       "</div>"
      ],
      "text/plain": [
       "     matricula   11111111\n",
       "423  matricula   11111158\n",
       "424     nombre  Alumno 48\n",
       "425      grupo     IDGS71\n",
       "426  Materia 1          4\n",
       "427  Materia 2          4\n",
       "428  Materia 3         10\n",
       "429  Materia 4          6\n",
       "430  Materia 5          8\n",
       "431  Materia 6         10\n",
       "432     estado    regular"
      ]
     },
     "execution_count": 7,
     "metadata": {},
     "output_type": "execute_result"
    }
   ],
   "source": [
    "file.tail(10)"
   ]
  },
  {
   "cell_type": "markdown",
   "metadata": {},
   "source": [
    "# Eliminar los datos de mas del datos frame"
   ]
  },
  {
   "cell_type": "code",
   "execution_count": 8,
   "metadata": {},
   "outputs": [
    {
     "data": {
      "text/html": [
       "<div>\n",
       "<style scoped>\n",
       "    .dataframe tbody tr th:only-of-type {\n",
       "        vertical-align: middle;\n",
       "    }\n",
       "\n",
       "    .dataframe tbody tr th {\n",
       "        vertical-align: top;\n",
       "    }\n",
       "\n",
       "    .dataframe thead th {\n",
       "        text-align: right;\n",
       "    }\n",
       "</style>\n",
       "<table border=\"1\" class=\"dataframe\">\n",
       "  <thead>\n",
       "    <tr style=\"text-align: right;\">\n",
       "      <th></th>\n",
       "      <th>matricula</th>\n",
       "      <th>11111111</th>\n",
       "    </tr>\n",
       "  </thead>\n",
       "  <tbody>\n",
       "    <tr>\n",
       "      <th>0</th>\n",
       "      <td>nombre</td>\n",
       "      <td>Alumno 1</td>\n",
       "    </tr>\n",
       "    <tr>\n",
       "      <th>1</th>\n",
       "      <td>grupo</td>\n",
       "      <td>TI11</td>\n",
       "    </tr>\n",
       "    <tr>\n",
       "      <th>2</th>\n",
       "      <td>Materia 1</td>\n",
       "      <td>1</td>\n",
       "    </tr>\n",
       "    <tr>\n",
       "      <th>3</th>\n",
       "      <td>Materia 2</td>\n",
       "      <td>8</td>\n",
       "    </tr>\n",
       "    <tr>\n",
       "      <th>4</th>\n",
       "      <td>Materia 3</td>\n",
       "      <td>1</td>\n",
       "    </tr>\n",
       "    <tr>\n",
       "      <th>5</th>\n",
       "      <td>Materia 4</td>\n",
       "      <td>7</td>\n",
       "    </tr>\n",
       "    <tr>\n",
       "      <th>6</th>\n",
       "      <td>Materia 5</td>\n",
       "      <td>2</td>\n",
       "    </tr>\n",
       "    <tr>\n",
       "      <th>8</th>\n",
       "      <td>estado</td>\n",
       "      <td>regular</td>\n",
       "    </tr>\n",
       "  </tbody>\n",
       "</table>\n",
       "</div>"
      ],
      "text/plain": [
       "   matricula  11111111\n",
       "0     nombre  Alumno 1\n",
       "1      grupo      TI11\n",
       "2  Materia 1         1\n",
       "3  Materia 2         8\n",
       "4  Materia 3         1\n",
       "5  Materia 4         7\n",
       "6  Materia 5         2\n",
       "8     estado   regular"
      ]
     },
     "execution_count": 8,
     "metadata": {},
     "output_type": "execute_result"
    }
   ],
   "source": [
    "file = file.drop([7],axis=0)\n",
    "file.head(8)"
   ]
  },
  {
   "cell_type": "code",
   "execution_count": 9,
   "metadata": {},
   "outputs": [
    {
     "data": {
      "text/html": [
       "<div>\n",
       "<style scoped>\n",
       "    .dataframe tbody tr th:only-of-type {\n",
       "        vertical-align: middle;\n",
       "    }\n",
       "\n",
       "    .dataframe tbody tr th {\n",
       "        vertical-align: top;\n",
       "    }\n",
       "\n",
       "    .dataframe thead th {\n",
       "        text-align: right;\n",
       "    }\n",
       "</style>\n",
       "<table border=\"1\" class=\"dataframe\">\n",
       "  <thead>\n",
       "    <tr style=\"text-align: right;\">\n",
       "      <th></th>\n",
       "      <th>matricula</th>\n",
       "      <th>11111111</th>\n",
       "    </tr>\n",
       "  </thead>\n",
       "  <tbody>\n",
       "    <tr>\n",
       "      <th>423</th>\n",
       "      <td>matricula</td>\n",
       "      <td>11111158</td>\n",
       "    </tr>\n",
       "    <tr>\n",
       "      <th>424</th>\n",
       "      <td>nombre</td>\n",
       "      <td>Alumno 48</td>\n",
       "    </tr>\n",
       "    <tr>\n",
       "      <th>425</th>\n",
       "      <td>grupo</td>\n",
       "      <td>IDGS71</td>\n",
       "    </tr>\n",
       "    <tr>\n",
       "      <th>426</th>\n",
       "      <td>Materia 1</td>\n",
       "      <td>4</td>\n",
       "    </tr>\n",
       "    <tr>\n",
       "      <th>427</th>\n",
       "      <td>Materia 2</td>\n",
       "      <td>4</td>\n",
       "    </tr>\n",
       "    <tr>\n",
       "      <th>428</th>\n",
       "      <td>Materia 3</td>\n",
       "      <td>10</td>\n",
       "    </tr>\n",
       "    <tr>\n",
       "      <th>429</th>\n",
       "      <td>Materia 4</td>\n",
       "      <td>6</td>\n",
       "    </tr>\n",
       "    <tr>\n",
       "      <th>430</th>\n",
       "      <td>Materia 5</td>\n",
       "      <td>8</td>\n",
       "    </tr>\n",
       "    <tr>\n",
       "      <th>432</th>\n",
       "      <td>estado</td>\n",
       "      <td>regular</td>\n",
       "    </tr>\n",
       "  </tbody>\n",
       "</table>\n",
       "</div>"
      ],
      "text/plain": [
       "     matricula   11111111\n",
       "423  matricula   11111158\n",
       "424     nombre  Alumno 48\n",
       "425      grupo     IDGS71\n",
       "426  Materia 1          4\n",
       "427  Materia 2          4\n",
       "428  Materia 3         10\n",
       "429  Materia 4          6\n",
       "430  Materia 5          8\n",
       "432     estado    regular"
      ]
     },
     "execution_count": 9,
     "metadata": {},
     "output_type": "execute_result"
    }
   ],
   "source": [
    "file = file.drop([431],axis=0)\n",
    "file.tail(9)"
   ]
  },
  {
   "cell_type": "code",
   "execution_count": 10,
   "metadata": {},
   "outputs": [],
   "source": [
    "file = file.drop([106],axis=0)\n",
    "file = file.drop([107],axis=0)"
   ]
  },
  {
   "cell_type": "markdown",
   "metadata": {},
   "source": []
  },
  {
   "cell_type": "markdown",
   "metadata": {},
   "source": [
    "## Exportar datosframe a csv"
   ]
  },
  {
   "cell_type": "code",
   "execution_count": 11,
   "metadata": {},
   "outputs": [],
   "source": [
    "new_file = file.to_csv(\"calificaciones_v2_modificado.csv\")"
   ]
  },
  {
   "cell_type": "markdown",
   "metadata": {},
   "source": [
    "# Abrir el nuevo archivo con numpy"
   ]
  },
  {
   "cell_type": "code",
   "execution_count": 12,
   "metadata": {},
   "outputs": [],
   "source": [
    "with open(\"calificaciones_v2_modificado.csv\",\"r\") as file:\n",
    "    datos = list(csv.reader(file,delimiter=\",\"))"
   ]
  },
  {
   "cell_type": "code",
   "execution_count": 13,
   "metadata": {},
   "outputs": [
    {
     "data": {
      "text/plain": [
       "list"
      ]
     },
     "execution_count": 13,
     "metadata": {},
     "output_type": "execute_result"
    }
   ],
   "source": [
    "type(datos)"
   ]
  },
  {
   "cell_type": "markdown",
   "metadata": {},
   "source": [
    "### Convertir a array"
   ]
  },
  {
   "cell_type": "code",
   "execution_count": 14,
   "metadata": {},
   "outputs": [],
   "source": [
    "datos = np.array(datos)"
   ]
  },
  {
   "cell_type": "code",
   "execution_count": 15,
   "metadata": {},
   "outputs": [
    {
     "data": {
      "text/plain": [
       "array([['', 'matricula', '11111111'],\n",
       "       ['0', 'nombre', 'Alumno 1'],\n",
       "       ['1', 'grupo', 'TI11'],\n",
       "       ['2', 'Materia 1', '1'],\n",
       "       ['3', 'Materia 2', '8'],\n",
       "       ['4', 'Materia 3', '1'],\n",
       "       ['5', 'Materia 4', '7'],\n",
       "       ['6', 'Materia 5', '2'],\n",
       "       ['8', 'estado', 'regular'],\n",
       "       ['9', 'matricula', '11111112']], dtype='<U9')"
      ]
     },
     "execution_count": 15,
     "metadata": {},
     "output_type": "execute_result"
    }
   ],
   "source": [
    "datos[:10,:]"
   ]
  },
  {
   "cell_type": "markdown",
   "metadata": {},
   "source": [
    "## Eliminar la primer columna"
   ]
  },
  {
   "cell_type": "code",
   "execution_count": 16,
   "metadata": {},
   "outputs": [],
   "source": [
    "filtro = np.array([False, True, True])\n",
    "datos = datos[:,filtro]"
   ]
  },
  {
   "cell_type": "code",
   "execution_count": 17,
   "metadata": {},
   "outputs": [
    {
     "data": {
      "text/plain": [
       "array([['matricula', '11111111'],\n",
       "       ['nombre', 'Alumno 1'],\n",
       "       ['grupo', 'TI11'],\n",
       "       ['Materia 1', '1'],\n",
       "       ['Materia 2', '8'],\n",
       "       ['Materia 3', '1'],\n",
       "       ['Materia 4', '7'],\n",
       "       ['Materia 5', '2'],\n",
       "       ['estado', 'regular'],\n",
       "       ['matricula', '11111112']], dtype='<U9')"
      ]
     },
     "execution_count": 17,
     "metadata": {},
     "output_type": "execute_result"
    }
   ],
   "source": [
    "datos[:10,:]"
   ]
  },
  {
   "cell_type": "markdown",
   "metadata": {},
   "source": [
    "## Obtener cabeceras"
   ]
  },
  {
   "cell_type": "code",
   "execution_count": 18,
   "metadata": {},
   "outputs": [
    {
     "data": {
      "text/plain": [
       "array(['matricula', 'nombre', 'grupo', 'Materia 1', 'Materia 2',\n",
       "       'Materia 3', 'Materia 4', 'Materia 5', 'estado', 'matricula'],\n",
       "      dtype='<U9')"
      ]
     },
     "execution_count": 18,
     "metadata": {},
     "output_type": "execute_result"
    }
   ],
   "source": [
    "cabeceras = datos.T[0]\n",
    "cabeceras[:10]"
   ]
  },
  {
   "cell_type": "markdown",
   "metadata": {},
   "source": [
    "## Conteo de las cabeceras"
   ]
  },
  {
   "cell_type": "code",
   "execution_count": 19,
   "metadata": {},
   "outputs": [
    {
     "data": {
      "text/plain": [
       "430"
      ]
     },
     "execution_count": 19,
     "metadata": {},
     "output_type": "execute_result"
    }
   ],
   "source": [
    "cabeceras.size"
   ]
  },
  {
   "cell_type": "code",
   "execution_count": 20,
   "metadata": {},
   "outputs": [
    {
     "data": {
      "text/plain": [
       "9"
      ]
     },
     "execution_count": 20,
     "metadata": {},
     "output_type": "execute_result"
    }
   ],
   "source": [
    "np.unique(cabeceras).size"
   ]
  },
  {
   "cell_type": "markdown",
   "metadata": {},
   "source": [
    "## Obtener las cabeceras"
   ]
  },
  {
   "cell_type": "code",
   "execution_count": 21,
   "metadata": {},
   "outputs": [
    {
     "data": {
      "text/plain": [
       "array(['matricula', 'nombre', 'grupo', 'Materia 1', 'Materia 2',\n",
       "       'Materia 3', 'Materia 4', 'Materia 5', 'estado'], dtype='<U9')"
      ]
     },
     "execution_count": 21,
     "metadata": {},
     "output_type": "execute_result"
    }
   ],
   "source": [
    "cabeceras = cabeceras[:9]\n",
    "cabeceras"
   ]
  },
  {
   "cell_type": "markdown",
   "metadata": {},
   "source": [
    "## Caccular el numero de registros"
   ]
  },
  {
   "cell_type": "code",
   "execution_count": 22,
   "metadata": {},
   "outputs": [
    {
     "data": {
      "text/plain": [
       "9"
      ]
     },
     "execution_count": 22,
     "metadata": {},
     "output_type": "execute_result"
    }
   ],
   "source": [
    "no_cabeceras = cabeceras.size\n",
    "no_cabeceras"
   ]
  },
  {
   "cell_type": "code",
   "execution_count": 23,
   "metadata": {},
   "outputs": [
    {
     "data": {
      "text/plain": [
       "430"
      ]
     },
     "execution_count": 23,
     "metadata": {},
     "output_type": "execute_result"
    }
   ],
   "source": [
    "no_registros = datos.T[0].size\n",
    "no_registros"
   ]
  },
  {
   "cell_type": "code",
   "execution_count": 24,
   "metadata": {},
   "outputs": [
    {
     "data": {
      "text/plain": [
       "47.77777777777778"
      ]
     },
     "execution_count": 24,
     "metadata": {},
     "output_type": "execute_result"
    }
   ],
   "source": [
    "filas = no_registros / no_cabeceras\n",
    "filas"
   ]
  },
  {
   "cell_type": "markdown",
   "metadata": {},
   "source": [
    "## Eliminar ceberas de array"
   ]
  },
  {
   "cell_type": "code",
   "execution_count": 25,
   "metadata": {},
   "outputs": [],
   "source": [
    "filtro = np.array([False, True])\n",
    "datos = datos[:,filtro]"
   ]
  },
  {
   "cell_type": "code",
   "execution_count": 26,
   "metadata": {},
   "outputs": [
    {
     "data": {
      "text/plain": [
       "array([['11111111'],\n",
       "       ['Alumno 1'],\n",
       "       ['TI11'],\n",
       "       ['1'],\n",
       "       ['8'],\n",
       "       ['1'],\n",
       "       ['7'],\n",
       "       ['2'],\n",
       "       ['regular'],\n",
       "       ['11111112']], dtype='<U9')"
      ]
     },
     "execution_count": 26,
     "metadata": {},
     "output_type": "execute_result"
    }
   ],
   "source": [
    "datos[:10]"
   ]
  },
  {
   "cell_type": "code",
   "execution_count": 27,
   "metadata": {},
   "outputs": [
    {
     "data": {
      "text/plain": [
       "(430, 1)"
      ]
     },
     "execution_count": 27,
     "metadata": {},
     "output_type": "execute_result"
    }
   ],
   "source": [
    "datos.shape"
   ]
  },
  {
   "cell_type": "markdown",
   "metadata": {},
   "source": [
    "## Rechape del array "
   ]
  },
  {
   "cell_type": "code",
   "execution_count": 28,
   "metadata": {},
   "outputs": [
    {
     "ename": "ValueError",
     "evalue": "cannot reshape array of size 430 into shape (47,9)",
     "output_type": "error",
     "traceback": [
      "\u001b[1;31m---------------------------------------------------------------------------\u001b[0m",
      "\u001b[1;31mValueError\u001b[0m                                Traceback (most recent call last)",
      "Cell \u001b[1;32mIn [28], line 1\u001b[0m\n\u001b[1;32m----> 1\u001b[0m datos \u001b[39m=\u001b[39m datos\u001b[39m.\u001b[39mreshape(\u001b[39mint\u001b[39m(filas),\u001b[39mint\u001b[39m(no_cabeceras))\n\u001b[0;32m      2\u001b[0m datos[\u001b[39m10\u001b[39m:\u001b[39m15\u001b[39m]\n",
      "\u001b[1;31mValueError\u001b[0m: cannot reshape array of size 430 into shape (47,9)"
     ]
    }
   ],
   "source": [
    "datos = datos.reshape(int(filas),int(no_cabeceras))\n",
    "datos[10:15]"
   ]
  },
  {
   "cell_type": "code",
   "execution_count": null,
   "metadata": {},
   "outputs": [
    {
     "data": {
      "text/plain": [
       "(48, 9)"
      ]
     },
     "execution_count": 159,
     "metadata": {},
     "output_type": "execute_result"
    }
   ],
   "source": [
    "datos.shape"
   ]
  },
  {
   "cell_type": "markdown",
   "metadata": {},
   "source": [
    "## Separar datos del los alumnos"
   ]
  },
  {
   "cell_type": "code",
   "execution_count": null,
   "metadata": {},
   "outputs": [
    {
     "data": {
      "text/plain": [
       "array([['11111111', 'Alumno 1', 'TI11'],\n",
       "       ['11111112', 'Alumno 2', 'TI11'],\n",
       "       ['11111113', 'Alumno 3', 'TI11'],\n",
       "       ['11111114', 'Alumno 4', 'TI11'],\n",
       "       ['11111115', 'Alumno 5', 'TI11']], dtype='<U9')"
      ]
     },
     "execution_count": 160,
     "metadata": {},
     "output_type": "execute_result"
    }
   ],
   "source": [
    "datos_alumnos = np.array(datos[:,:3])\n",
    "datos_alumnos[:5]"
   ]
  },
  {
   "cell_type": "markdown",
   "metadata": {},
   "source": [
    "## modificar datos vacios"
   ]
  },
  {
   "cell_type": "code",
   "execution_count": null,
   "metadata": {},
   "outputs": [],
   "source": [
    "dataframe = pd.DataFrame(data = datos,columns=cabeceras, dtype= str)"
   ]
  },
  {
   "cell_type": "code",
   "execution_count": null,
   "metadata": {},
   "outputs": [
    {
     "data": {
      "text/html": [
       "<div>\n",
       "<style scoped>\n",
       "    .dataframe tbody tr th:only-of-type {\n",
       "        vertical-align: middle;\n",
       "    }\n",
       "\n",
       "    .dataframe tbody tr th {\n",
       "        vertical-align: top;\n",
       "    }\n",
       "\n",
       "    .dataframe thead th {\n",
       "        text-align: right;\n",
       "    }\n",
       "</style>\n",
       "<table border=\"1\" class=\"dataframe\">\n",
       "  <thead>\n",
       "    <tr style=\"text-align: right;\">\n",
       "      <th></th>\n",
       "      <th>matricula</th>\n",
       "      <th>nombre</th>\n",
       "      <th>grupo</th>\n",
       "      <th>Materia 1</th>\n",
       "      <th>Materia 2</th>\n",
       "      <th>Materia 3</th>\n",
       "      <th>Materia 4</th>\n",
       "      <th>Materia 5</th>\n",
       "      <th>estado</th>\n",
       "    </tr>\n",
       "  </thead>\n",
       "  <tbody>\n",
       "    <tr>\n",
       "      <th>0</th>\n",
       "      <td>11111111</td>\n",
       "      <td>Alumno 1</td>\n",
       "      <td>TI11</td>\n",
       "      <td>1</td>\n",
       "      <td>8</td>\n",
       "      <td>1</td>\n",
       "      <td>7</td>\n",
       "      <td>2</td>\n",
       "      <td>regular</td>\n",
       "    </tr>\n",
       "    <tr>\n",
       "      <th>1</th>\n",
       "      <td>11111112</td>\n",
       "      <td>Alumno 2</td>\n",
       "      <td>TI11</td>\n",
       "      <td>10</td>\n",
       "      <td>7</td>\n",
       "      <td>1</td>\n",
       "      <td>8</td>\n",
       "      <td>5</td>\n",
       "      <td>regular</td>\n",
       "    </tr>\n",
       "    <tr>\n",
       "      <th>2</th>\n",
       "      <td>11111113</td>\n",
       "      <td>Alumno 3</td>\n",
       "      <td>TI11</td>\n",
       "      <td></td>\n",
       "      <td>1</td>\n",
       "      <td>1</td>\n",
       "      <td>3</td>\n",
       "      <td>0</td>\n",
       "      <td>regular</td>\n",
       "    </tr>\n",
       "    <tr>\n",
       "      <th>3</th>\n",
       "      <td>11111114</td>\n",
       "      <td>Alumno 4</td>\n",
       "      <td>TI11</td>\n",
       "      <td></td>\n",
       "      <td>4</td>\n",
       "      <td>3</td>\n",
       "      <td>2</td>\n",
       "      <td>7</td>\n",
       "      <td>regular</td>\n",
       "    </tr>\n",
       "    <tr>\n",
       "      <th>4</th>\n",
       "      <td>11111115</td>\n",
       "      <td>Alumno 5</td>\n",
       "      <td>TI11</td>\n",
       "      <td>9</td>\n",
       "      <td>10</td>\n",
       "      <td>3</td>\n",
       "      <td>9</td>\n",
       "      <td>2</td>\n",
       "      <td>regular</td>\n",
       "    </tr>\n",
       "    <tr>\n",
       "      <th>5</th>\n",
       "      <td>11111116</td>\n",
       "      <td>Alumno 6</td>\n",
       "      <td>TI11</td>\n",
       "      <td>1</td>\n",
       "      <td>3</td>\n",
       "      <td>8</td>\n",
       "      <td>1</td>\n",
       "      <td>7</td>\n",
       "      <td>regular</td>\n",
       "    </tr>\n",
       "    <tr>\n",
       "      <th>6</th>\n",
       "      <td>11111117</td>\n",
       "      <td>Alumno 7</td>\n",
       "      <td>TI11</td>\n",
       "      <td>4</td>\n",
       "      <td>7</td>\n",
       "      <td>1</td>\n",
       "      <td>6</td>\n",
       "      <td>5</td>\n",
       "      <td>regular</td>\n",
       "    </tr>\n",
       "    <tr>\n",
       "      <th>7</th>\n",
       "      <td>11111118</td>\n",
       "      <td>Alumno 8</td>\n",
       "      <td>TI11</td>\n",
       "      <td>10</td>\n",
       "      <td>1</td>\n",
       "      <td>7</td>\n",
       "      <td>10</td>\n",
       "      <td>0</td>\n",
       "      <td>regular</td>\n",
       "    </tr>\n",
       "    <tr>\n",
       "      <th>8</th>\n",
       "      <td>11111119</td>\n",
       "      <td>Alumno 9</td>\n",
       "      <td>TI11</td>\n",
       "      <td>5</td>\n",
       "      <td>5</td>\n",
       "      <td>4</td>\n",
       "      <td>0</td>\n",
       "      <td>3</td>\n",
       "      <td>regular</td>\n",
       "    </tr>\n",
       "    <tr>\n",
       "      <th>9</th>\n",
       "      <td>11111120</td>\n",
       "      <td>Alumno 10</td>\n",
       "      <td>TI11</td>\n",
       "      <td>5</td>\n",
       "      <td>7</td>\n",
       "      <td>3</td>\n",
       "      <td>3</td>\n",
       "      <td>4</td>\n",
       "      <td>regular</td>\n",
       "    </tr>\n",
       "    <tr>\n",
       "      <th>10</th>\n",
       "      <td>11111121</td>\n",
       "      <td>Alumno 11</td>\n",
       "      <td>TI11</td>\n",
       "      <td>6</td>\n",
       "      <td>1</td>\n",
       "      <td>3</td>\n",
       "      <td>7</td>\n",
       "      <td>0</td>\n",
       "      <td>regular</td>\n",
       "    </tr>\n",
       "    <tr>\n",
       "      <th>11</th>\n",
       "      <td>11111122</td>\n",
       "      <td>Alumno 12</td>\n",
       "      <td>TI11</td>\n",
       "      <td>7</td>\n",
       "      <td>2</td>\n",
       "      <td>5</td>\n",
       "      <td>4</td>\n",
       "      <td>5</td>\n",
       "      <td>4</td>\n",
       "    </tr>\n",
       "    <tr>\n",
       "      <th>12</th>\n",
       "      <td>5</td>\n",
       "      <td>regular</td>\n",
       "      <td>11111123</td>\n",
       "      <td>Alumno 13</td>\n",
       "      <td>TI12</td>\n",
       "      <td>5</td>\n",
       "      <td>2</td>\n",
       "      <td>3</td>\n",
       "      <td>0</td>\n",
       "    </tr>\n",
       "    <tr>\n",
       "      <th>13</th>\n",
       "      <td>1</td>\n",
       "      <td>regular</td>\n",
       "      <td>11111124</td>\n",
       "      <td>Alumno 14</td>\n",
       "      <td>TI12</td>\n",
       "      <td>5</td>\n",
       "      <td>2</td>\n",
       "      <td>10</td>\n",
       "      <td>0</td>\n",
       "    </tr>\n",
       "    <tr>\n",
       "      <th>14</th>\n",
       "      <td>6</td>\n",
       "      <td>regular</td>\n",
       "      <td>11111125</td>\n",
       "      <td>Alumno 15</td>\n",
       "      <td>TI12</td>\n",
       "      <td>9</td>\n",
       "      <td>9</td>\n",
       "      <td>1</td>\n",
       "      <td>3</td>\n",
       "    </tr>\n",
       "    <tr>\n",
       "      <th>15</th>\n",
       "      <td>1</td>\n",
       "      <td>regular</td>\n",
       "      <td>11111126</td>\n",
       "      <td>Alumno 16</td>\n",
       "      <td>TI12</td>\n",
       "      <td>1</td>\n",
       "      <td>2</td>\n",
       "      <td>1</td>\n",
       "      <td>7</td>\n",
       "    </tr>\n",
       "    <tr>\n",
       "      <th>16</th>\n",
       "      <td>7</td>\n",
       "      <td>regular</td>\n",
       "      <td>11111127</td>\n",
       "      <td>Alumno 17</td>\n",
       "      <td>TI12</td>\n",
       "      <td>0</td>\n",
       "      <td>2</td>\n",
       "      <td>1</td>\n",
       "      <td>0</td>\n",
       "    </tr>\n",
       "    <tr>\n",
       "      <th>17</th>\n",
       "      <td>2</td>\n",
       "      <td>regular</td>\n",
       "      <td>11111128</td>\n",
       "      <td>Alumno 18</td>\n",
       "      <td>TI12</td>\n",
       "      <td>0</td>\n",
       "      <td>1</td>\n",
       "      <td>4</td>\n",
       "      <td>7</td>\n",
       "    </tr>\n",
       "    <tr>\n",
       "      <th>18</th>\n",
       "      <td>6</td>\n",
       "      <td>regular</td>\n",
       "      <td>11111129</td>\n",
       "      <td>Alumno 19</td>\n",
       "      <td>TI12</td>\n",
       "      <td>0</td>\n",
       "      <td>8</td>\n",
       "      <td>7</td>\n",
       "      <td>8</td>\n",
       "    </tr>\n",
       "    <tr>\n",
       "      <th>19</th>\n",
       "      <td>2</td>\n",
       "      <td>regular</td>\n",
       "      <td>11111130</td>\n",
       "      <td>Alumno 20</td>\n",
       "      <td>TI12</td>\n",
       "      <td>4</td>\n",
       "      <td>0</td>\n",
       "      <td>5</td>\n",
       "      <td>0</td>\n",
       "    </tr>\n",
       "    <tr>\n",
       "      <th>20</th>\n",
       "      <td>4</td>\n",
       "      <td>regular</td>\n",
       "      <td>11111131</td>\n",
       "      <td>Alumno 21</td>\n",
       "      <td>TI12</td>\n",
       "      <td>6</td>\n",
       "      <td>4</td>\n",
       "      <td>2</td>\n",
       "      <td>10</td>\n",
       "    </tr>\n",
       "    <tr>\n",
       "      <th>21</th>\n",
       "      <td>10</td>\n",
       "      <td>regular</td>\n",
       "      <td>11111132</td>\n",
       "      <td>Alumno 22</td>\n",
       "      <td>TI12</td>\n",
       "      <td>5</td>\n",
       "      <td>6</td>\n",
       "      <td>9</td>\n",
       "      <td>0</td>\n",
       "    </tr>\n",
       "    <tr>\n",
       "      <th>22</th>\n",
       "      <td>3</td>\n",
       "      <td>regular</td>\n",
       "      <td>11111133</td>\n",
       "      <td>Alumno 23</td>\n",
       "      <td>TI12</td>\n",
       "      <td>1</td>\n",
       "      <td>9</td>\n",
       "      <td>7</td>\n",
       "      <td>7</td>\n",
       "    </tr>\n",
       "    <tr>\n",
       "      <th>23</th>\n",
       "      <td>6</td>\n",
       "      <td>regular</td>\n",
       "      <td>11111134</td>\n",
       "      <td>Alumno 24</td>\n",
       "      <td>TI41</td>\n",
       "      <td>4</td>\n",
       "      <td>0</td>\n",
       "      <td>10</td>\n",
       "      <td>7</td>\n",
       "    </tr>\n",
       "    <tr>\n",
       "      <th>24</th>\n",
       "      <td>0</td>\n",
       "      <td>regular</td>\n",
       "      <td>11111135</td>\n",
       "      <td>Alumno 25</td>\n",
       "      <td>TI41</td>\n",
       "      <td>3</td>\n",
       "      <td>3</td>\n",
       "      <td>0</td>\n",
       "      <td>8</td>\n",
       "    </tr>\n",
       "    <tr>\n",
       "      <th>25</th>\n",
       "      <td>5</td>\n",
       "      <td>regular</td>\n",
       "      <td>11111136</td>\n",
       "      <td>Alumno 26</td>\n",
       "      <td>TI41</td>\n",
       "      <td>0</td>\n",
       "      <td>5</td>\n",
       "      <td>7</td>\n",
       "      <td>2</td>\n",
       "    </tr>\n",
       "    <tr>\n",
       "      <th>26</th>\n",
       "      <td>regular</td>\n",
       "      <td>11111137</td>\n",
       "      <td>Alumno 27</td>\n",
       "      <td>TI41</td>\n",
       "      <td>0</td>\n",
       "      <td>0</td>\n",
       "      <td>6</td>\n",
       "      <td>0</td>\n",
       "      <td>5</td>\n",
       "    </tr>\n",
       "    <tr>\n",
       "      <th>27</th>\n",
       "      <td>regular</td>\n",
       "      <td>11111138</td>\n",
       "      <td>Alumno 28</td>\n",
       "      <td>TI41</td>\n",
       "      <td>9</td>\n",
       "      <td>3</td>\n",
       "      <td>10</td>\n",
       "      <td>9</td>\n",
       "      <td>6</td>\n",
       "    </tr>\n",
       "    <tr>\n",
       "      <th>28</th>\n",
       "      <td>regular</td>\n",
       "      <td>11111139</td>\n",
       "      <td>Alumno 29</td>\n",
       "      <td>TI41</td>\n",
       "      <td>0</td>\n",
       "      <td>5</td>\n",
       "      <td>1</td>\n",
       "      <td>10</td>\n",
       "      <td>1</td>\n",
       "    </tr>\n",
       "    <tr>\n",
       "      <th>29</th>\n",
       "      <td>regular</td>\n",
       "      <td>11111140</td>\n",
       "      <td>Alumno 30</td>\n",
       "      <td>TI41</td>\n",
       "      <td>3</td>\n",
       "      <td>3</td>\n",
       "      <td>5</td>\n",
       "      <td>9</td>\n",
       "      <td>9</td>\n",
       "    </tr>\n",
       "    <tr>\n",
       "      <th>30</th>\n",
       "      <td>regular</td>\n",
       "      <td>11111141</td>\n",
       "      <td>Alumno 31</td>\n",
       "      <td>TI41</td>\n",
       "      <td>10</td>\n",
       "      <td>10</td>\n",
       "      <td>4</td>\n",
       "      <td>1</td>\n",
       "      <td>4</td>\n",
       "    </tr>\n",
       "    <tr>\n",
       "      <th>31</th>\n",
       "      <td>regular</td>\n",
       "      <td>11111142</td>\n",
       "      <td>Alumno 32</td>\n",
       "      <td>TI41</td>\n",
       "      <td>6</td>\n",
       "      <td>0</td>\n",
       "      <td>5</td>\n",
       "      <td>3</td>\n",
       "      <td>2</td>\n",
       "    </tr>\n",
       "    <tr>\n",
       "      <th>32</th>\n",
       "      <td>regular</td>\n",
       "      <td>11111143</td>\n",
       "      <td>Alumno 33</td>\n",
       "      <td>IDGS91</td>\n",
       "      <td>0</td>\n",
       "      <td>4</td>\n",
       "      <td>1</td>\n",
       "      <td>7</td>\n",
       "      <td>9</td>\n",
       "    </tr>\n",
       "    <tr>\n",
       "      <th>33</th>\n",
       "      <td>regular</td>\n",
       "      <td>11111144</td>\n",
       "      <td>Alumno 34</td>\n",
       "      <td>IDGS91</td>\n",
       "      <td>1</td>\n",
       "      <td>1</td>\n",
       "      <td>2</td>\n",
       "      <td>3</td>\n",
       "      <td>8</td>\n",
       "    </tr>\n",
       "    <tr>\n",
       "      <th>34</th>\n",
       "      <td>regular</td>\n",
       "      <td>11111145</td>\n",
       "      <td>Alumno 35</td>\n",
       "      <td>IDGS91</td>\n",
       "      <td>0</td>\n",
       "      <td>7</td>\n",
       "      <td>10</td>\n",
       "      <td>7</td>\n",
       "      <td>7</td>\n",
       "    </tr>\n",
       "    <tr>\n",
       "      <th>35</th>\n",
       "      <td>regular</td>\n",
       "      <td>11111146</td>\n",
       "      <td>Alumno 36</td>\n",
       "      <td>IDGS91</td>\n",
       "      <td>7</td>\n",
       "      <td>1</td>\n",
       "      <td>4</td>\n",
       "      <td>0</td>\n",
       "      <td>6</td>\n",
       "    </tr>\n",
       "    <tr>\n",
       "      <th>36</th>\n",
       "      <td>11111147</td>\n",
       "      <td>Alumno 37</td>\n",
       "      <td>IDGS91</td>\n",
       "      <td>6</td>\n",
       "      <td>6</td>\n",
       "      <td>4</td>\n",
       "      <td>3</td>\n",
       "      <td>0</td>\n",
       "      <td>regular</td>\n",
       "    </tr>\n",
       "    <tr>\n",
       "      <th>37</th>\n",
       "      <td>11111148</td>\n",
       "      <td>Alumno 38</td>\n",
       "      <td>IDGS91</td>\n",
       "      <td>0</td>\n",
       "      <td>6</td>\n",
       "      <td>6</td>\n",
       "      <td>3</td>\n",
       "      <td>5</td>\n",
       "      <td>regular</td>\n",
       "    </tr>\n",
       "    <tr>\n",
       "      <th>38</th>\n",
       "      <td>11111149</td>\n",
       "      <td>Alumno 39</td>\n",
       "      <td>IDGS91</td>\n",
       "      <td>8</td>\n",
       "      <td>7</td>\n",
       "      <td>9</td>\n",
       "      <td>5</td>\n",
       "      <td>2</td>\n",
       "      <td>regular</td>\n",
       "    </tr>\n",
       "    <tr>\n",
       "      <th>39</th>\n",
       "      <td>11111150</td>\n",
       "      <td>Alumno 40</td>\n",
       "      <td>IDGS91</td>\n",
       "      <td>1</td>\n",
       "      <td>0</td>\n",
       "      <td>3</td>\n",
       "      <td>4</td>\n",
       "      <td>10</td>\n",
       "      <td>regular</td>\n",
       "    </tr>\n",
       "    <tr>\n",
       "      <th>40</th>\n",
       "      <td>11111151</td>\n",
       "      <td>Alumno 41</td>\n",
       "      <td>IDGS91</td>\n",
       "      <td>6</td>\n",
       "      <td>5</td>\n",
       "      <td>1</td>\n",
       "      <td>5</td>\n",
       "      <td>9</td>\n",
       "      <td>regular</td>\n",
       "    </tr>\n",
       "    <tr>\n",
       "      <th>41</th>\n",
       "      <td>11111152</td>\n",
       "      <td>Alumno 42</td>\n",
       "      <td>IDGS91</td>\n",
       "      <td>2</td>\n",
       "      <td>0</td>\n",
       "      <td>9</td>\n",
       "      <td>9</td>\n",
       "      <td>5</td>\n",
       "      <td>regular</td>\n",
       "    </tr>\n",
       "    <tr>\n",
       "      <th>42</th>\n",
       "      <td>11111153</td>\n",
       "      <td>Alumno 43</td>\n",
       "      <td>IDGS91</td>\n",
       "      <td>3</td>\n",
       "      <td>4</td>\n",
       "      <td>0</td>\n",
       "      <td>0</td>\n",
       "      <td>0</td>\n",
       "      <td>regular</td>\n",
       "    </tr>\n",
       "    <tr>\n",
       "      <th>43</th>\n",
       "      <td>11111154</td>\n",
       "      <td>Alumno 44</td>\n",
       "      <td>IDGS91</td>\n",
       "      <td>3</td>\n",
       "      <td>1</td>\n",
       "      <td>1</td>\n",
       "      <td>7</td>\n",
       "      <td>10</td>\n",
       "      <td>regular</td>\n",
       "    </tr>\n",
       "    <tr>\n",
       "      <th>44</th>\n",
       "      <td>11111155</td>\n",
       "      <td>Alumno 45</td>\n",
       "      <td>IDGS91</td>\n",
       "      <td>4</td>\n",
       "      <td>1</td>\n",
       "      <td>2</td>\n",
       "      <td>8</td>\n",
       "      <td>6</td>\n",
       "      <td>regular</td>\n",
       "    </tr>\n",
       "    <tr>\n",
       "      <th>45</th>\n",
       "      <td>11111156</td>\n",
       "      <td>Alumno 46</td>\n",
       "      <td>IDGS71</td>\n",
       "      <td>10</td>\n",
       "      <td>1</td>\n",
       "      <td>10</td>\n",
       "      <td>0</td>\n",
       "      <td>7</td>\n",
       "      <td>regular</td>\n",
       "    </tr>\n",
       "    <tr>\n",
       "      <th>46</th>\n",
       "      <td>11111157</td>\n",
       "      <td>Alumno 47</td>\n",
       "      <td>IDGS71</td>\n",
       "      <td>9</td>\n",
       "      <td>10</td>\n",
       "      <td>1</td>\n",
       "      <td>3</td>\n",
       "      <td>9</td>\n",
       "      <td>regular</td>\n",
       "    </tr>\n",
       "    <tr>\n",
       "      <th>47</th>\n",
       "      <td>11111158</td>\n",
       "      <td>Alumno 48</td>\n",
       "      <td>IDGS71</td>\n",
       "      <td>4</td>\n",
       "      <td>4</td>\n",
       "      <td>10</td>\n",
       "      <td>6</td>\n",
       "      <td>8</td>\n",
       "      <td>regular</td>\n",
       "    </tr>\n",
       "  </tbody>\n",
       "</table>\n",
       "</div>"
      ],
      "text/plain": [
       "   matricula     nombre      grupo  Materia 1 Materia 2 Materia 3 Materia 4  \\\n",
       "0   11111111   Alumno 1       TI11          1         8         1         7   \n",
       "1   11111112   Alumno 2       TI11         10         7         1         8   \n",
       "2   11111113   Alumno 3       TI11                    1         1         3   \n",
       "3   11111114   Alumno 4       TI11                    4         3         2   \n",
       "4   11111115   Alumno 5       TI11          9        10         3         9   \n",
       "5   11111116   Alumno 6       TI11          1         3         8         1   \n",
       "6   11111117   Alumno 7       TI11          4         7         1         6   \n",
       "7   11111118   Alumno 8       TI11         10         1         7        10   \n",
       "8   11111119   Alumno 9       TI11          5         5         4         0   \n",
       "9   11111120  Alumno 10       TI11          5         7         3         3   \n",
       "10  11111121  Alumno 11       TI11          6         1         3         7   \n",
       "11  11111122  Alumno 12       TI11          7         2         5         4   \n",
       "12         5    regular   11111123  Alumno 13      TI12         5         2   \n",
       "13         1    regular   11111124  Alumno 14      TI12         5         2   \n",
       "14         6    regular   11111125  Alumno 15      TI12         9         9   \n",
       "15         1    regular   11111126  Alumno 16      TI12         1         2   \n",
       "16         7    regular   11111127  Alumno 17      TI12         0         2   \n",
       "17         2    regular   11111128  Alumno 18      TI12         0         1   \n",
       "18         6    regular   11111129  Alumno 19      TI12         0         8   \n",
       "19         2    regular   11111130  Alumno 20      TI12         4         0   \n",
       "20         4    regular   11111131  Alumno 21      TI12         6         4   \n",
       "21        10    regular   11111132  Alumno 22      TI12         5         6   \n",
       "22         3    regular   11111133  Alumno 23      TI12         1         9   \n",
       "23         6    regular   11111134  Alumno 24      TI41         4         0   \n",
       "24         0    regular   11111135  Alumno 25      TI41         3         3   \n",
       "25         5    regular   11111136  Alumno 26      TI41         0         5   \n",
       "26   regular   11111137  Alumno 27       TI41         0         0         6   \n",
       "27   regular   11111138  Alumno 28       TI41         9         3        10   \n",
       "28   regular   11111139  Alumno 29       TI41         0         5         1   \n",
       "29   regular   11111140  Alumno 30       TI41         3         3         5   \n",
       "30   regular   11111141  Alumno 31       TI41        10        10         4   \n",
       "31   regular   11111142  Alumno 32       TI41         6         0         5   \n",
       "32   regular   11111143  Alumno 33     IDGS91         0         4         1   \n",
       "33   regular   11111144  Alumno 34     IDGS91         1         1         2   \n",
       "34   regular   11111145  Alumno 35     IDGS91         0         7        10   \n",
       "35   regular   11111146  Alumno 36     IDGS91         7         1         4   \n",
       "36  11111147  Alumno 37     IDGS91          6         6         4         3   \n",
       "37  11111148  Alumno 38     IDGS91          0         6         6         3   \n",
       "38  11111149  Alumno 39     IDGS91          8         7         9         5   \n",
       "39  11111150  Alumno 40     IDGS91          1         0         3         4   \n",
       "40  11111151  Alumno 41     IDGS91          6         5         1         5   \n",
       "41  11111152  Alumno 42     IDGS91          2         0         9         9   \n",
       "42  11111153  Alumno 43     IDGS91          3         4         0         0   \n",
       "43  11111154  Alumno 44     IDGS91          3         1         1         7   \n",
       "44  11111155  Alumno 45     IDGS91          4         1         2         8   \n",
       "45  11111156  Alumno 46     IDGS71         10         1        10         0   \n",
       "46  11111157  Alumno 47     IDGS71          9        10         1         3   \n",
       "47  11111158  Alumno 48     IDGS71          4         4        10         6   \n",
       "\n",
       "   Materia 5   estado  \n",
       "0          2  regular  \n",
       "1          5  regular  \n",
       "2          0  regular  \n",
       "3          7  regular  \n",
       "4          2  regular  \n",
       "5          7  regular  \n",
       "6          5  regular  \n",
       "7          0  regular  \n",
       "8          3  regular  \n",
       "9          4  regular  \n",
       "10         0  regular  \n",
       "11         5        4  \n",
       "12         3        0  \n",
       "13        10        0  \n",
       "14         1        3  \n",
       "15         1        7  \n",
       "16         1        0  \n",
       "17         4        7  \n",
       "18         7        8  \n",
       "19         5        0  \n",
       "20         2       10  \n",
       "21         9        0  \n",
       "22         7        7  \n",
       "23        10        7  \n",
       "24         0        8  \n",
       "25         7        2  \n",
       "26         0        5  \n",
       "27         9        6  \n",
       "28        10        1  \n",
       "29         9        9  \n",
       "30         1        4  \n",
       "31         3        2  \n",
       "32         7        9  \n",
       "33         3        8  \n",
       "34         7        7  \n",
       "35         0        6  \n",
       "36         0  regular  \n",
       "37         5  regular  \n",
       "38         2  regular  \n",
       "39        10  regular  \n",
       "40         9  regular  \n",
       "41         5  regular  \n",
       "42         0  regular  \n",
       "43        10  regular  \n",
       "44         6  regular  \n",
       "45         7  regular  \n",
       "46         9  regular  \n",
       "47         8  regular  "
      ]
     },
     "execution_count": 164,
     "metadata": {},
     "output_type": "execute_result"
    }
   ],
   "source": [
    "dataframe"
   ]
  }
 ],
 "metadata": {
  "kernelspec": {
   "display_name": "Python 3.10.7 64-bit",
   "language": "python",
   "name": "python3"
  },
  "language_info": {
   "codemirror_mode": {
    "name": "ipython",
    "version": 3
   },
   "file_extension": ".py",
   "mimetype": "text/x-python",
   "name": "python",
   "nbconvert_exporter": "python",
   "pygments_lexer": "ipython3",
   "version": "3.10.7"
  },
  "orig_nbformat": 4,
  "vscode": {
   "interpreter": {
    "hash": "213524bb45a1aeaf737b1d8c77d7b8db5d425938d9dffc5f4bc6fe6dd3324700"
   }
  }
 },
 "nbformat": 4,
 "nbformat_minor": 2
}
